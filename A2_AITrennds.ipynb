{
 "cells": [
  {
   "cell_type": "code",
   "execution_count": 1,
   "id": "2f60011b",
   "metadata": {},
   "outputs": [],
   "source": [
    "# Intialization\n",
    "import os\n",
    "import sys\n",
    "\n",
    "os.environ[\"SPARK_HOME\"] = \"/home/talentum/spark\"\n",
    "os.environ[\"PYLIB\"] = os.environ[\"SPARK_HOME\"] + \"/python/lib\"\n",
    "# In below two lines, use /usr/bin/python2.7 if you want to use Python 2\n",
    "os.environ[\"PYSPARK_PYTHON\"] = \"/usr/bin/python3.6\" \n",
    "os.environ[\"PYSPARK_DRIVER_PYTHON\"] = \"/usr/bin/python3\"\n",
    "sys.path.insert(0, os.environ[\"PYLIB\"] +\"/py4j-0.10.7-src.zip\")\n",
    "sys.path.insert(0, os.environ[\"PYLIB\"] +\"/pyspark.zip\")\n",
    "\n",
    "# NOTE: Whichever package you want mention here.\n",
    "# os.environ['PYSPARK_SUBMIT_ARGS'] = '--packages com.databricks:spark-xml_2.11:0.6.0 pyspark-shell' \n",
    "# os.environ['PYSPARK_SUBMIT_ARGS'] = '--packages org.apache.spark:spark-avro_2.11:2.4.0 pyspark-shell'\n",
    "os.environ['PYSPARK_SUBMIT_ARGS'] = '--packages com.databricks:spark-xml_2.11:0.6.0,org.apache.spark:spark-avro_2.11:2.4.3 pyspark-shell'\n",
    "# os.environ['PYSPARK_SUBMIT_ARGS'] = '--packages com.databricks:spark-xml_2.11:0.6.0,org.apache.spark:spark-avro_2.11:2.4.0 pyspark-shell'"
   ]
  },
  {
   "cell_type": "code",
   "execution_count": 2,
   "id": "07992717",
   "metadata": {},
   "outputs": [],
   "source": [
    "#Entrypoint 2.x\n",
    "from pyspark.sql import SparkSession\n",
    "spark = SparkSession.builder.appName(\"Spark SQL basic example\").enableHiveSupport().getOrCreate()\n",
    "\n",
    "# On yarn:\n",
    "# spark = SparkSession.builder.appName(\"Spark SQL basic example\").enableHiveSupport().master(\"yarn\").getOrCreate()\n",
    "# specify .master(\"yarn\")\n",
    "\n",
    "sc = spark.sparkContext"
   ]
  },
  {
   "cell_type": "code",
   "execution_count": 4,
   "id": "bf275f18",
   "metadata": {},
   "outputs": [
    {
     "name": "stdout",
     "output_type": "stream",
     "text": [
      "['EVERY', 'afternoon,', 'as', 'they', 'were']\n"
     ]
    }
   ],
   "source": [
    "splitRdd = sc.textFile(\"file:////home/talentum/test-jupyter/P2/M1/Eval_Labs/dataset/Pair-RDD/Pair-RDD/selfishgiant.txt\") \\\n",
    ".flatMap(lambda line : line.split(\" \"))\n",
    "\n",
    "\n",
    "print(splitRdd.take(5))"
   ]
  },
  {
   "cell_type": "code",
   "execution_count": 5,
   "id": "ef0cad8d",
   "metadata": {},
   "outputs": [
    {
     "name": "stdout",
     "output_type": "stream",
     "text": [
      "[('EVERY', 1), ('afternoon,', 1), ('as', 1), ('they', 1), ('were', 1)]\n"
     ]
    }
   ],
   "source": [
    "mappedRDD = splitRdd.map(lambda word : (word, 1))\n",
    "\n",
    "print(mappedRDD.take(5))"
   ]
  },
  {
   "cell_type": "code",
   "execution_count": 7,
   "id": "c303ceae",
   "metadata": {},
   "outputs": [
    {
     "name": "stdout",
     "output_type": "stream",
     "text": [
      "[('Jan', 0), ('Feb', 1), ('Mar', 2), ('Apr', 3), ('May', 4), ('Jun', 5), ('Jul', 6)]\n"
     ]
    }
   ],
   "source": [
    "months = ('Jan', 'Feb', 'Mar', 'Apr', 'May', 'Jun', 'Jul')\n",
    "\n",
    "monthsRDD = sc.parallelize(months)\n",
    "\n",
    "monthsIndexed0Rdd = monthsRDD.zipWithIndex()\n",
    "\n",
    "print(monthsIndexed0Rdd.collect())"
   ]
  },
  {
   "cell_type": "code",
   "execution_count": 19,
   "id": "d0977206",
   "metadata": {},
   "outputs": [
    {
     "name": "stdout",
     "output_type": "stream",
     "text": [
      "[('Jan', 1), ('Feb', 2), ('Mar', 3), ('Apr', 4), ('May', 5), ('Jun', 6), ('Jul', 7)]\n"
     ]
    }
   ],
   "source": [
    "monthsIndexed1Rdd = monthsIndexed0Rdd.map(lambda x: (x[0], x[1]+1))\n",
    "\n",
    "print(monthsIndexed1Rdd.collect())"
   ]
  },
  {
   "cell_type": "code",
   "execution_count": 21,
   "id": "cbfbab06",
   "metadata": {},
   "outputs": [
    {
     "name": "stdout",
     "output_type": "stream",
     "text": [
      "[('Jan', 1), ('Feb', 2), ('Mar', 3), ('Apr', 4), ('May', 5), ('Jun', 6), ('Jul', 7)]\n"
     ]
    }
   ],
   "source": [
    "monthsIndexed2Rdd = monthsIndexed0Rdd.mapValues(lambda y : y + 1)\n",
    "\n",
    "print(monthsIndexed2Rdd.collect())"
   ]
  },
  {
   "cell_type": "code",
   "execution_count": 23,
   "id": "1599b7d0",
   "metadata": {},
   "outputs": [
    {
     "name": "stdout",
     "output_type": "stream",
     "text": [
      "[('Jan', 1), ('Feb', 1), ('Mar', 1), ('Apr', 2), ('May', 2), ('Jun', 2), ('Jul', 3)]\n"
     ]
    }
   ],
   "source": [
    "quarters = (1,1,1,2,2,2,3)\n",
    "\n",
    "quartersRdd = sc.parallelize(quarters)\n",
    "\n",
    "monthsZipQuarters = monthsRDD.zip(quartersRdd)\n",
    "\n",
    "print(monthsZipQuarters.collect())"
   ]
  },
  {
   "cell_type": "code",
   "execution_count": 24,
   "id": "cf4921a6",
   "metadata": {},
   "outputs": [
    {
     "name": "stdout",
     "output_type": "stream",
     "text": [
      "['Jan', 'Feb', 'Mar', 'Apr', 'May', 'Jun', 'Jul']\n",
      "[1, 1, 1, 2, 2, 2, 3]\n",
      "[('Apr', 2), ('Feb', 1), ('Jan', 1), ('Jul', 3), ('Jun', 2), ('Mar', 1), ('May', 2)]\n"
     ]
    }
   ],
   "source": [
    "print(monthsZipQuarters.keys().collect())\n",
    "print(monthsZipQuarters.values().collect())\n",
    "print(monthsZipQuarters.sortByKey().collect())"
   ]
  },
  {
   "cell_type": "code",
   "execution_count": 26,
   "id": "3cae8dca",
   "metadata": {},
   "outputs": [
    {
     "name": "stdout",
     "output_type": "stream",
     "text": [
      "[('EVERY', 1), ('afternoon,', 3), ('as', 9), ('they', 17), ('were', 21)]\n"
     ]
    }
   ],
   "source": [
    "reducedByKeyRdd = mappedRDD.reduceByKey(lambda x, y : x + y)\n",
    "\n",
    "print(reducedByKeyRdd.take(5))"
   ]
  },
  {
   "cell_type": "code",
   "execution_count": 30,
   "id": "ef77f041",
   "metadata": {},
   "outputs": [
    {
     "name": "stdout",
     "output_type": "stream",
     "text": [
      "[(1, 'EVERY'), (3, 'afternoon,'), (9, 'as'), (17, 'they'), (21, 'were')]\n"
     ]
    }
   ],
   "source": [
    "flippedRdd = reducedByKeyRdd.map(lambda x : (x[1],x[0]))\n",
    "\n",
    "print(flippedRdd.take(5))"
   ]
  },
  {
   "cell_type": "code",
   "execution_count": 31,
   "id": "07da1a09",
   "metadata": {},
   "outputs": [
    {
     "name": "stdout",
     "output_type": "stream",
     "text": [
      "[(148, 'the'), (85, 'and'), (44, 'he'), (38, 'to'), (33, '')]\n"
     ]
    }
   ],
   "source": [
    "orderedRdd = flippedRdd.sortByKey(ascending = False)\n",
    "\n",
    "print(orderedRdd.take(5))"
   ]
  },
  {
   "cell_type": "code",
   "execution_count": null,
   "id": "f760d0b9",
   "metadata": {},
   "outputs": [],
   "source": []
  },
  {
   "cell_type": "code",
   "execution_count": null,
   "id": "dddfafa3",
   "metadata": {},
   "outputs": [],
   "source": []
  },
  {
   "cell_type": "code",
   "execution_count": null,
   "id": "d256ec79",
   "metadata": {},
   "outputs": [],
   "source": []
  },
  {
   "cell_type": "markdown",
   "id": "cf2d6131",
   "metadata": {},
   "source": [
    "### Q2"
   ]
  },
  {
   "cell_type": "code",
   "execution_count": 42,
   "id": "e1dbfc08",
   "metadata": {},
   "outputs": [],
   "source": [
    "file_path_flights = 'file:///home/talentum/test-jupyter/P2/M1/Eval_Labs/dataset/Pair-RDD/Pair-RDD/flights.csv'"
   ]
  },
  {
   "cell_type": "code",
   "execution_count": 43,
   "id": "5e1685ff",
   "metadata": {},
   "outputs": [
    {
     "name": "stdout",
     "output_type": "stream",
     "text": [
      "[('WN', 1), ('WN', 1), ('WN', 1), ('WN', 1), ('WN', 1)]\n"
     ]
    }
   ],
   "source": [
    "carrierRdd = sc.textFile(file_path_flights).map(lambda val : val.split(\",\")).map(lambda column : (column[5], 1))\n",
    "\n",
    "print(carrierRdd.take(5))"
   ]
  },
  {
   "cell_type": "code",
   "execution_count": 38,
   "id": "b6ecfd0a",
   "metadata": {},
   "outputs": [
    {
     "name": "stdout",
     "output_type": "stream",
     "text": [
      "[(356167, 'WN'), (175969, 'AA'), (166445, 'OO')]\n"
     ]
    }
   ],
   "source": [
    "carrierSortedRdd = carrierRdd.reduceByKey(lambda x, y : x + y).map(lambda a : (a[1], a[0])).sortByKey(ascending = False)\n",
    "\n",
    "print(carrierSortedRdd.take(3))"
   ]
  },
  {
   "cell_type": "markdown",
   "id": "8a39bea8",
   "metadata": {},
   "source": [
    "### Q3"
   ]
  },
  {
   "cell_type": "code",
   "execution_count": 40,
   "id": "4b051d4b",
   "metadata": {},
   "outputs": [],
   "source": [
    "file_path = 'file:///home/talentum/test-jupyter/P2/M1/Eval_Labs/dataset/Pair-RDD/Pair-RDD/airports.csv'"
   ]
  },
  {
   "cell_type": "code",
   "execution_count": 41,
   "id": "4ed7b553",
   "metadata": {},
   "outputs": [
    {
     "name": "stdout",
     "output_type": "stream",
     "text": [
      "[('iata', 'city'), ('00M', 'BaySprings'), ('00R', 'Livingston'), ('00V', 'ColoradoSprings'), ('01G', 'Perry')]\n"
     ]
    }
   ],
   "source": [
    "cityRdd = sc.textFile(file_path).map(lambda val : val.split(\",\")).map(lambda column : (column[0], column[2]))\n",
    "\n",
    "print(cityRdd.take(5))"
   ]
  },
  {
   "cell_type": "code",
   "execution_count": null,
   "id": "146f8679",
   "metadata": {},
   "outputs": [],
   "source": []
  },
  {
   "cell_type": "code",
   "execution_count": null,
   "id": "695c3e8e",
   "metadata": {},
   "outputs": [],
   "source": []
  },
  {
   "cell_type": "code",
   "execution_count": 45,
   "id": "58ceb55d",
   "metadata": {},
   "outputs": [
    {
     "name": "stdout",
     "output_type": "stream",
     "text": [
      "[('IAD', 'TPA'), ('IND', 'BWI'), ('IND', 'JAX'), ('IND', 'LAS'), ('IND', 'PHX')]\n"
     ]
    }
   ],
   "source": [
    "flightOrigDestRdd = sc.textFile(file_path_flights).map(lambda val : val.split(\",\")).map(lambda column : (column[12], column[13]))\n",
    "\n",
    "print(flightOrigDestRdd.take(5))"
   ]
  },
  {
   "cell_type": "code",
   "execution_count": 46,
   "id": "4e75d768",
   "metadata": {},
   "outputs": [
    {
     "name": "stdout",
     "output_type": "stream",
     "text": [
      "[('OAK', ('BOI', 'Oakland')), ('OAK', ('BUR', 'Oakland')), ('OAK', ('BUR', 'Oakland')), ('OAK', ('BUR', 'Oakland')), ('OAK', ('DEN', 'Oakland'))]\n"
     ]
    }
   ],
   "source": [
    "origJoinRdd = flightOrigDestRdd.join(cityRdd)\n",
    "\n",
    "print(origJoinRdd.take(5))"
   ]
  },
  {
   "cell_type": "code",
   "execution_count": 47,
   "id": "4259b03a",
   "metadata": {},
   "outputs": [
    {
     "name": "stdout",
     "output_type": "stream",
     "text": [
      "[('ONT', ('Oakland', 'Ontario')), ('ONT', ('Oakland', 'Ontario')), ('ONT', ('Oakland', 'Ontario')), ('ONT', ('Oakland', 'Ontario')), ('ONT', ('Oakland', 'Ontario'))]\n"
     ]
    }
   ],
   "source": [
    "destOrigJoinRdd = origJoinRdd.values().join(cityRdd)\n",
    "\n",
    "print(destOrigJoinRdd.take(5))"
   ]
  },
  {
   "cell_type": "code",
   "execution_count": 48,
   "id": "19d059be",
   "metadata": {},
   "outputs": [
    {
     "name": "stdout",
     "output_type": "stream",
     "text": [
      "[('Oakland', 'Ontario'), ('Oakland', 'Ontario'), ('Oakland', 'Ontario'), ('Oakland', 'Ontario'), ('Oakland', 'Ontario')]\n"
     ]
    }
   ],
   "source": [
    "citiesCleanedRdd  = destOrigJoinRdd.values()\n",
    "\n",
    "print(citiesCleanedRdd.take(5))"
   ]
  },
  {
   "cell_type": "code",
   "execution_count": 49,
   "id": "beb21054",
   "metadata": {},
   "outputs": [
    {
     "name": "stdout",
     "output_type": "stream",
     "text": [
      "[(('Oakland', 'Ontario'), 1), (('Oakland', 'Ontario'), 1), (('Oakland', 'Ontario'), 1), (('Oakland', 'Ontario'), 1), (('Oakland', 'Ontario'), 1)]\n"
     ]
    }
   ],
   "source": [
    "citiesKV = citiesCleanedRdd.map(lambda cities : (cities, 1))\n",
    "\n",
    "print(citiesKV.take(5))"
   ]
  },
  {
   "cell_type": "code",
   "execution_count": 50,
   "id": "80e55a7b",
   "metadata": {},
   "outputs": [
    {
     "name": "stdout",
     "output_type": "stream",
     "text": [
      "[(5540, ('NewYork', 'Boston')), (5478, ('Boston', 'NewYork')), (4103, ('Chicago', 'NewYork'))]\n"
     ]
    }
   ],
   "source": [
    "citiesReducedSirtedRdd = citiesKV.reduceByKey(lambda x, y : x + y).map(lambda x : (x[1], x[0])).sortByKey(ascending = False)\n",
    "\n",
    "print(citiesReducedSirtedRdd.take(3))"
   ]
  },
  {
   "cell_type": "code",
   "execution_count": 51,
   "id": "3592989c",
   "metadata": {},
   "outputs": [
    {
     "name": "stdout",
     "output_type": "stream",
     "text": [
      "[('WN', '8'), ('WN', '-4'), ('WN', '25'), ('WN', '67'), ('WN', '9')]\n"
     ]
    }
   ],
   "source": [
    "delayRdd = sc.textFile(file_path_flights).map(lambda val : val.split(\",\")).map(lambda column : (column[5], column[11]))\n",
    "\n",
    "print(delayRdd.take(5))"
   ]
  },
  {
   "cell_type": "code",
   "execution_count": 52,
   "id": "c5e9b6dd",
   "metadata": {},
   "outputs": [
    {
     "name": "stdout",
     "output_type": "stream",
     "text": [
      "[('XE', 781), ('YV', 526), ('OH', 680), ('OO', 767), ('UA', 1268)]\n"
     ]
    }
   ],
   "source": [
    "delayMaxRdd = delayRdd.reduceByKey(lambda x, y : max(int(x), int(y)))\n",
    "\n",
    "print(delayMaxRdd.take(5))"
   ]
  },
  {
   "cell_type": "code",
   "execution_count": null,
   "id": "27def45c",
   "metadata": {},
   "outputs": [],
   "source": []
  },
  {
   "cell_type": "code",
   "execution_count": 53,
   "id": "65e9ca78",
   "metadata": {},
   "outputs": [],
   "source": [
    "file_path_plane = 'file:///home/talentum/test-jupyter/P2/M1/Eval_Labs/dataset/Pair-RDD/Pair-RDD/plane-data.csv'"
   ]
  },
  {
   "cell_type": "code",
   "execution_count": 54,
   "id": "d0e0819a",
   "metadata": {},
   "outputs": [
    {
     "name": "stdout",
     "output_type": "stream",
     "text": [
      "5030\n"
     ]
    }
   ],
   "source": [
    "planeDataRdd = sc.textFile(file_path_plane)\n",
    "\n",
    "print(planeDataRdd.count())"
   ]
  },
  {
   "cell_type": "code",
   "execution_count": 55,
   "id": "e1e2f707",
   "metadata": {},
   "outputs": [
    {
     "name": "stdout",
     "output_type": "stream",
     "text": [
      "4481\n"
     ]
    }
   ],
   "source": [
    "cleanPlaneDataRdd = planeDataRdd.map(lambda val : val.split(\",\")).filter(lambda elements : len(elements) == 9)\n",
    "\n",
    "print(cleanPlaneDataRdd.count())"
   ]
  },
  {
   "cell_type": "code",
   "execution_count": null,
   "id": "309c7b53",
   "metadata": {},
   "outputs": [],
   "source": []
  }
 ],
 "metadata": {
  "kernelspec": {
   "display_name": "Python 3",
   "language": "python",
   "name": "python3"
  },
  "language_info": {
   "codemirror_mode": {
    "name": "ipython",
    "version": 3
   },
   "file_extension": ".py",
   "mimetype": "text/x-python",
   "name": "python",
   "nbconvert_exporter": "python",
   "pygments_lexer": "ipython3",
   "version": "3.6.9"
  }
 },
 "nbformat": 4,
 "nbformat_minor": 5
}
